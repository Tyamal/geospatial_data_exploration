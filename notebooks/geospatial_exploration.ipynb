# Eksplorasi Data Geospasial

## Import Pustaka
```python
import geopandas as gpd
import matplotlib.pyplot as plt
import folium
